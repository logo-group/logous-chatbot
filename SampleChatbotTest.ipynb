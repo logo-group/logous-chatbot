{
 "cells": [
  {
   "cell_type": "markdown",
   "metadata": {},
   "source": [
    "# Logous Model\n"
   ]
  },
  {
   "cell_type": "code",
   "execution_count": 1,
   "metadata": {},
   "outputs": [],
   "source": [
    "from Shared.MLModelUtils.Chatbot.ScenarioUtils import ScenarioUtils\n",
    "from Shared.MLModelUtils.Chatbot.LogousChatbotScenarioBase import LogousChatbotScenarioBase\n",
    "from Shared.MLModelUtils.Chatbot.BotUtils import BotUtils\n",
    "import numpy as np\n",
    "from gensim.models import Word2Vec\n",
    "\n",
    "class SosoyologoIKScenarioChatbotModel(object):\n",
    "    \n",
    "    signatures = None\n",
    "    def run(self, data, external_files_path = \"/\"):        \n",
    "        \n",
    "        if (SosoyologoIKScenarioChatbotModel.signatures is None):\n",
    "            import nltk\n",
    "            nltk.download('punkt')\n",
    "\n",
    "            import nltk\n",
    "            nltk.download('stopwords')\n",
    "            SosoyologoIKScenarioChatbotModel.signatures = np.load(external_files_path + \"sample_model_signatures.npy\", allow_pickle=True)\n",
    "            SosoyologoIKScenarioChatbotModel.answers = np.load(external_files_path + \"sample_model_answers.npy\", allow_pickle=True)\n",
    "            SosoyologoIKScenarioChatbotModel.questions = np.load(external_files_path + \"sample_model_questions.npy\", allow_pickle=True)\n",
    "            SosoyologoIKScenarioChatbotModel.embedding_model = Word2Vec.load(external_files_path+'sample_model_embedding.bin')       \n",
    "            SosoyologoIKScenarioChatbotModel.botutils = BotUtils(self.get_scenarios(), globals())\n",
    "            \n",
    "        result = SosoyologoIKScenarioChatbotModel.botutils.process_msg(data,\n",
    "                                                                       SosoyologoIKScenarioChatbotModel.signatures, \n",
    "                                                                       SosoyologoIKScenarioChatbotModel.answers,\n",
    "                                                                       SosoyologoIKScenarioChatbotModel.questions, \n",
    "                                                                       SosoyologoIKScenarioChatbotModel.embedding_model)\n",
    "        \n",
    "        return result\n",
    "        #from flask import jsonify\n",
    "        #return jsonify(result)\n",
    "        \n",
    "    def get_scenarios(self):\n",
    "        return [{\n",
    "                \"bot_main_class\":\"SosyoLogoBot\",    \n",
    "                \"entities\":{    \n",
    "                    \"startapprove\": {            \n",
    "                    },\n",
    "                    \"gun\": {            \n",
    "                        \"msg\":\"Kaç günlük izin girişi yapmak istiyorsunuz?\",              \n",
    "                    },\n",
    "                    \"start\": {            \n",
    "                        \"msg\":\"Hangi başlangıç tarihi için izin girişi yapmak istiyorsunuz?\"            \n",
    "                    },\n",
    "                    \"tip\": {            \n",
    "                        \"msg\":\"Hangi tipte (yıllık, mazeret, hastalık) izin girmek istiyorsunuz?\"            \n",
    "                    },\n",
    "                    \"finalapprove\": {            \n",
    "                        \"msg\":\"#start başlangıç olmak üzere #tip tipinde #gun günlük izin girişi yapılacak, onaylıyor musunuz?\"            \n",
    "                    }\n",
    "                },    \n",
    "                \"flow\":[\"startapprove\", \"gun\",\"start\",\"tip\",\"finalapprove\"], \n",
    "                \"final_msg\": \"İşleminiz tamamlandı.\",      \n",
    "                \"error_msg\":\"Anlaşılamadı lütfen tekrar giriş yapınız.\",\n",
    "                \"abort_msg\":\"İşleminiz iptal edildi.\",\n",
    "                \"ner_model_id\" : \"1308\",\n",
    "                \"ml_api_url\" : \"http://ml.logo-paas.com:5050/api/run\"\n",
    "                }            \n",
    "               ]\n",
    "    \n",
    "    \n",
    "class SosyoLogoBot(LogousChatbotScenarioBase):\n",
    "        \n",
    "    def ask_entity_startapprove(self, context, sentence, ner_results):        \n",
    "        msg = \"\"\n",
    "        if (\"#start\" in context[\"entities\"]):\n",
    "            msg = msg + \"#start tarihi için \"\n",
    "        \n",
    "        if (\"#gun\" in context[\"entities\"]):\n",
    "            msg = msg + \"#gun gunluk \"\n",
    "            \n",
    "        msg= msg + \"İzin girmek mi istiyorsunuz?\"\n",
    "        return msg, ScenarioUtils.CONTINUE_SCENARIO\n",
    "        \n",
    "    def parse_entity_startapprove(self, context, sentence, ner_results):\n",
    "        result, command = self.parse_yes_no(self, sentence, ner_results)   \n",
    "        if (command == ScenarioUtils.CONTINUE_SCENARIO) and (result == False):\n",
    "            return result, ScenarioUtils.ABORT_SCENARIO        \n",
    "        else:\n",
    "            return result, command\n",
    "    \n",
    "    def parse_entity_gun(self, context, sentence, ner_results):                \n",
    "        return self.parse_day(self, sentence, ner_results)                \n",
    "        \n",
    "    def parse_entity_tip(self, context, sentence, ner_results):\n",
    "        sentence = sentence.lower().strip()\n",
    "        if (\"yıllık\" in sentence) or (\"yillik\" in sentence):\n",
    "            return \"yıllık\", ScenarioUtils.CONTINUE_SCENARIO\n",
    "        elif (\"mazeret\" in sentence) or (\"mazaret\" in sentence):\n",
    "            return \"mazeret\", ScenarioUtils.CONTINUE_SCENARIO\n",
    "        elif (\"hasta\" in sentence):\n",
    "            return \"hastalik\", ScenarioUtils.CONTINUE_SCENARIO    \n",
    "            \n",
    "        return None, ScenarioUtils.PARSE_ERROR\n",
    "            \n",
    "    def parse_entity_start(self, context, sentence, ner_results):\n",
    "        return  self.parse_date(self, sentence, ner_results)                    \n",
    "    \n",
    "    def parse_entity_finalapprove(self, context, sentence, ner_results):\n",
    "        result, command = self.parse_yes_no(self, sentence, ner_results)   \n",
    "        if (command == ScenarioUtils.CONTINUE_SCENARIO) and (result == False):\n",
    "            return result, ScenarioUtils.ABORT_SCENARIO        \n",
    "        else:                    \n",
    "            print(\"HR services called!\")        \n",
    "            # Todo api call to HR system\n",
    "            return result, command     "
   ]
  },
  {
   "cell_type": "markdown",
   "metadata": {},
   "source": [
    "#### Q/A Test"
   ]
  },
  {
   "cell_type": "code",
   "execution_count": 2,
   "metadata": {},
   "outputs": [
    {
     "name": "stderr",
     "output_type": "stream",
     "text": [
      "[nltk_data] Downloading package punkt to /home/jovyan/nltk_data...\n",
      "[nltk_data]   Package punkt is already up-to-date!\n",
      "[nltk_data] Downloading package stopwords to /home/jovyan/nltk_data...\n",
      "[nltk_data]   Package stopwords is already up-to-date!\n"
     ]
    },
    {
     "data": {
      "text/plain": [
       "{'answer': 'Güncel ilanlara şuradan erişebilirsiniz: https://kariyerim.logo.com.tr/RecruitPortal/#!announcement'}"
      ]
     },
     "execution_count": 2,
     "metadata": {},
     "output_type": "execute_result"
    }
   ],
   "source": [
    "import numpy as np\n",
    "runner = SosoyologoIKScenarioChatbotModel();\n",
    "a = runner.run({\"question\":\"iş ilanları\"},external_files_path=\"\")\n",
    "a = a[\"results\"]\n",
    "a"
   ]
  },
  {
   "cell_type": "markdown",
   "metadata": {},
   "source": [
    "#### Scenario Test"
   ]
  },
  {
   "cell_type": "code",
   "execution_count": 3,
   "metadata": {},
   "outputs": [
    {
     "data": {
      "text/plain": [
       "{'answer': 'İzin girmek mi istiyorsunuz?',\n",
       " 'context': {'current_entity': 'startapprove',\n",
       "  'entities': {},\n",
       "  'scenario_id': 0}}"
      ]
     },
     "execution_count": 3,
     "metadata": {},
     "output_type": "execute_result"
    }
   ],
   "source": [
    "# Test Production Ready Model\n",
    "runner = SosoyologoIKScenarioChatbotModel();\n",
    "c1 = runner.run({\"question\":\"izin istiyorum\"},external_files_path=\"\")\n",
    "c1 = c1[\"results\"]\n",
    "c1"
   ]
  },
  {
   "cell_type": "code",
   "execution_count": 4,
   "metadata": {},
   "outputs": [
    {
     "name": "stdout",
     "output_type": "stream",
     "text": [
      "Kaç günlük izin girişi yapmak istiyorsunuz?\n"
     ]
    },
    {
     "data": {
      "text/plain": [
       "{'answer': 'Kaç günlük izin girişi yapmak istiyorsunuz?',\n",
       " 'context': {'current_entity': 'gun',\n",
       "  'entities': {'startapprove': True},\n",
       "  'scenario_id': 0}}"
      ]
     },
     "execution_count": 4,
     "metadata": {},
     "output_type": "execute_result"
    }
   ],
   "source": [
    "from copy import deepcopy\n",
    "c2 = runner.run({\"question\":\"evet izin girmek istiyorum\", \"context\":deepcopy(c1[\"context\"])},external_files_path=\"\")\n",
    "c2 = c2[\"results\"]\n",
    "c2"
   ]
  },
  {
   "cell_type": "code",
   "execution_count": 5,
   "metadata": {},
   "outputs": [
    {
     "name": "stdout",
     "output_type": "stream",
     "text": [
      "Hangi başlangıç tarihi için izin girişi yapmak istiyorsunuz?\n"
     ]
    },
    {
     "data": {
      "text/plain": [
       "{'answer': 'Hangi başlangıç tarihi için izin girişi yapmak istiyorsunuz?',\n",
       " 'context': {'current_entity': 'start',\n",
       "  'entities': {'gun': 14, 'startapprove': True},\n",
       "  'scenario_id': 0}}"
      ]
     },
     "execution_count": 5,
     "metadata": {},
     "output_type": "execute_result"
    }
   ],
   "source": [
    "from copy import deepcopy\n",
    "c3 = runner.run({\"question\":\"2 haftalık\", \"context\":deepcopy(c2[\"context\"])},external_files_path=\"\")\n",
    "c3 = c3[\"results\"]\n",
    "c3"
   ]
  },
  {
   "cell_type": "code",
   "execution_count": 6,
   "metadata": {},
   "outputs": [
    {
     "name": "stdout",
     "output_type": "stream",
     "text": [
      "İşleminiz iptal edildi.\n"
     ]
    },
    {
     "data": {
      "text/plain": [
       "{'answer': 'İşleminiz iptal edildi.', 'context': None}"
      ]
     },
     "execution_count": 6,
     "metadata": {},
     "output_type": "execute_result"
    }
   ],
   "source": [
    "from copy import deepcopy\n",
    "c4 = runner.run({\"question\":\"iptal\", \"context\":deepcopy(c3[\"context\"])},external_files_path=\"\")\n",
    "c4 = c4[\"results\"]\n",
    "c4"
   ]
  }
 ],
 "metadata": {
  "kernelspec": {
   "display_name": "Python [conda env:Python353]",
   "language": "python",
   "name": "conda-env-Python353-py"
  },
  "language_info": {
   "codemirror_mode": {
    "name": "ipython",
    "version": 3
   },
   "file_extension": ".py",
   "mimetype": "text/x-python",
   "name": "python",
   "nbconvert_exporter": "python",
   "pygments_lexer": "ipython3",
   "version": "3.5.3"
  }
 },
 "nbformat": 4,
 "nbformat_minor": 4
}
